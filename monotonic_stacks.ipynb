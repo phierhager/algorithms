{
 "cells": [
  {
   "cell_type": "markdown",
   "metadata": {},
   "source": [
    "# Monotonic Stacks\n",
    "\n",
    "A **monotonic stack** is a stack data structure used to maintain elements in a monotonic (increasing or decreasing) order. It is particularly useful for solving problems that involve comparisons across sequences, such as finding the next or previous greater/smaller element in \\(O(n)\\) time.\n",
    "\n",
    "---\n",
    "\n",
    "## Monotonic Increasing Stack\n",
    "\n",
    "- **Order Maintained**: Elements are stored in non-decreasing order.\n",
    "- **Use Case**: Solve problems like \"next greater element\" or \"previous greater element.\"\n",
    "- **Operation**:\n",
    "  1. Push elements onto the stack.\n",
    "  2. Pop elements from the stack while the current element violates the increasing order (i.e., it is larger than the top of the stack).\n",
    "\n",
    "### Example: Next Greater and Smaller Element\n"
   ]
  },
  {
   "cell_type": "code",
   "execution_count": null,
   "metadata": {},
   "outputs": [],
   "source": [
    "nums = [2, 1, 5, 6, 2, 3]\n",
    "\n",
    "stack = []  # Store indices\n",
    "result = [-1] * len(nums)\n",
    "\n",
    "for i, num in enumerate(nums):\n",
    "    while stack and nums[stack[-1]] < num:\n",
    "        prev_index = stack.pop()\n",
    "        result[prev_index] = num\n",
    "    stack.append(i)\n",
    "\n",
    "print(result)  # Output: [5, 5, 6, -1, 3, -1]"
   ]
  },
  {
   "cell_type": "code",
   "execution_count": null,
   "metadata": {},
   "outputs": [],
   "source": [
    "nums = [2, 1, 5, 6, 2, 3]\n",
    "\n",
    "stack = []  # Store indices\n",
    "result = [-1] * len(nums)\n",
    "\n",
    "for i, num in enumerate(nums):\n",
    "    while stack and nums[stack[-1]] > num:\n",
    "        prev_index = stack.pop()\n",
    "        result[prev_index] = num\n",
    "    stack.append(i)\n",
    "\n",
    "print(result)  # Output: [1, -1, 2, 2, -1, -1]\n"
   ]
  },
  {
   "cell_type": "markdown",
   "metadata": {},
   "source": [
    "## Applications of Monotonic Stacks\n",
    "\n",
    "1. **Daily Temperatures**: Find how many days to wait for a warmer temperature.\n",
    "2. **Stock Span Problem**: Determine the number of consecutive days the stock price has been less than or equal to today’s price.\n",
    "3. **Histogram Area**: Compute the largest rectangle area in a histogram.\n",
    "4. **Next Greater Element**: Efficiently find the next greater element for each item in a sequence.\n",
    "5. **Next Smaller Element**: Efficiently find the next smaller element for each item in a sequence.\n",
    "\n",
    "---\n",
    "\n",
    "## Complexity\n",
    "- **Time Complexity**: \\(O(n)\\), as each element is pushed and popped at most once.\n",
    "- **Space Complexity**: \\(O(n)\\), for the stack storage.\n"
   ]
  }
 ],
 "metadata": {
  "kernelspec": {
   "display_name": "Python 3",
   "language": "python",
   "name": "python3"
  },
  "language_info": {
   "name": "python",
   "version": "3.12.3"
  }
 },
 "nbformat": 4,
 "nbformat_minor": 2
}
